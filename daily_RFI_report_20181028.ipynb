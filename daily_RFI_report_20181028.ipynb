{
 "cells": [
  {
   "cell_type": "code",
   "execution_count": 1,
   "metadata": {
    "collapsed": true
   },
   "outputs": [
    {
     "name": "stdout",
     "output_type": "stream",
     "text": [
      "flushing temporary and output files...\n",
      "done.\n",
      "NOTE: Since in DEBUG mode, Will reprocess files if instructed.\n",
      "in ipynb, staging_dir is: /lustre/aoc/projects/hera/ajosaiti/SDR_RFI_monitoring_staging/20181028\n",
      "  SDR_SpectrumPeak.20181028-220000.n240.None.ridz is thought to be a file, not a directory.\n",
      "    diritem is a file, name: SDR_SpectrumPeak.20181028-220000.n240.None.ridz\n",
      "List of unprocessed files (or all files if DEBUG): ['SDR_SpectrumPeak.20181028-220000.n240.None.ridz']\n",
      "Ready to analyze files in pathname \"/lustre/aoc/projects/hera/ajosaiti/SDR_RFI_monitoring_staging/20181028/\".\n",
      "launching subprocess...\n",
      "/lustre/aoc/projects/hera/ajosaiti/SDR_RFI_monitoring_staging/20181028\n",
      "str_args: SDR_SpectrumPeak.20181028-220000.n240.None.ridz\n",
      "Reading SDR_SpectrumPeak.20181028-220000.n240.None.ridz\n",
      "Data span 2018-10-28 22:00:00 - 2018-10-28 23:59:30\n"
     ]
    },
    {
     "ename": "TypeError",
     "evalue": "raw_waterfall_plot() got an unexpected keyword argument 'title'",
     "output_type": "error",
     "traceback": [
      "\u001b[0;31m\u001b[0m",
      "\u001b[0;31mTypeError\u001b[0mTraceback (most recent call last)",
      "\u001b[0;32m/users/ajosaiti/anaconda/envs/py2.7env/bin/sp_rawview.py\u001b[0m in \u001b[0;36m<module>\u001b[0;34m()\u001b[0m\n\u001b[1;32m     78\u001b[0m     \u001b[0ms\u001b[0m\u001b[0;34m.\u001b[0m\u001b[0mtime_filter\u001b[0m\u001b[0;34m(\u001b[0m\u001b[0margs\u001b[0m\u001b[0;34m.\u001b[0m\u001b[0mwf\u001b[0m\u001b[0;34m)\u001b[0m\u001b[0;34m\u001b[0m\u001b[0m\n\u001b[1;32m     79\u001b[0m     \u001b[0ms\u001b[0m\u001b[0;34m.\u001b[0m\u001b[0mprocess\u001b[0m\u001b[0;34m(\u001b[0m\u001b[0mwf_time_fill\u001b[0m\u001b[0;34m=\u001b[0m\u001b[0margs\u001b[0m\u001b[0;34m.\u001b[0m\u001b[0mwf_time_fill\u001b[0m\u001b[0;34m,\u001b[0m \u001b[0mshow_edits\u001b[0m\u001b[0;34m=\u001b[0m\u001b[0margs\u001b[0m\u001b[0;34m.\u001b[0m\u001b[0mshow_edits\u001b[0m\u001b[0;34m)\u001b[0m\u001b[0;34m\u001b[0m\u001b[0m\n\u001b[0;32m---> 80\u001b[0;31m     \u001b[0ms\u001b[0m\u001b[0;34m.\u001b[0m\u001b[0mraw_waterfall_plot\u001b[0m\u001b[0;34m(\u001b[0m\u001b[0mtitle\u001b[0m\u001b[0;34m=\u001b[0m\u001b[0margs\u001b[0m\u001b[0;34m.\u001b[0m\u001b[0mtitle\u001b[0m\u001b[0;34m)\u001b[0m\u001b[0;34m\u001b[0m\u001b[0m\n\u001b[0m\u001b[1;32m     81\u001b[0m \u001b[0;32mif\u001b[0m \u001b[0margs\u001b[0m\u001b[0;34m.\u001b[0m\u001b[0mstack\u001b[0m \u001b[0;32mis\u001b[0m \u001b[0;32mnot\u001b[0m \u001b[0mNone\u001b[0m\u001b[0;34m:\u001b[0m\u001b[0;34m\u001b[0m\u001b[0m\n\u001b[1;32m     82\u001b[0m     \u001b[0ms\u001b[0m\u001b[0;34m.\u001b[0m\u001b[0mtime_filter\u001b[0m\u001b[0;34m(\u001b[0m\u001b[0margs\u001b[0m\u001b[0;34m.\u001b[0m\u001b[0mstack\u001b[0m\u001b[0;34m)\u001b[0m\u001b[0;34m\u001b[0m\u001b[0m\n",
      "\u001b[0;31mTypeError\u001b[0m: raw_waterfall_plot() got an unexpected keyword argument 'title'"
     ]
    },
    {
     "name": "stdout",
     "output_type": "stream",
     "text": [
      "Reading SDR_SpectrumPeak.20181028-220000.n240.None.ridz\n",
      "Data span 2018-10-28 22:00:00 - 2018-10-28 23:59:30\n"
     ]
    },
    {
     "ename": "TypeError",
     "evalue": "raw_totalpower_plot() got an unexpected keyword argument 'title'",
     "output_type": "error",
     "traceback": [
      "\u001b[0;31m\u001b[0m",
      "\u001b[0;31mTypeError\u001b[0mTraceback (most recent call last)",
      "\u001b[0;32m/users/ajosaiti/anaconda/envs/py2.7env/bin/sp_rawview.py\u001b[0m in \u001b[0;36m<module>\u001b[0;34m()\u001b[0m\n\u001b[1;32m     90\u001b[0m     \u001b[0ms\u001b[0m\u001b[0;34m.\u001b[0m\u001b[0mtime_filter\u001b[0m\u001b[0;34m(\u001b[0m\u001b[0margs\u001b[0m\u001b[0;34m.\u001b[0m\u001b[0mtotalpower\u001b[0m\u001b[0;34m)\u001b[0m\u001b[0;34m\u001b[0m\u001b[0m\n\u001b[1;32m     91\u001b[0m     \u001b[0ms\u001b[0m\u001b[0;34m.\u001b[0m\u001b[0mprocess\u001b[0m\u001b[0;34m(\u001b[0m\u001b[0mshow_edits\u001b[0m\u001b[0;34m=\u001b[0m\u001b[0margs\u001b[0m\u001b[0;34m.\u001b[0m\u001b[0mshow_edits\u001b[0m\u001b[0;34m,\u001b[0m \u001b[0mtotal_power_only\u001b[0m\u001b[0;34m=\u001b[0m\u001b[0mTrue\u001b[0m\u001b[0;34m)\u001b[0m\u001b[0;34m\u001b[0m\u001b[0m\n\u001b[0;32m---> 92\u001b[0;31m     \u001b[0ms\u001b[0m\u001b[0;34m.\u001b[0m\u001b[0mraw_totalpower_plot\u001b[0m\u001b[0;34m(\u001b[0m\u001b[0mtitle\u001b[0m\u001b[0;34m=\u001b[0m\u001b[0margs\u001b[0m\u001b[0;34m.\u001b[0m\u001b[0mtitle\u001b[0m\u001b[0;34m)\u001b[0m\u001b[0;34m\u001b[0m\u001b[0m\n\u001b[0m\u001b[1;32m     93\u001b[0m \u001b[0mplt\u001b[0m\u001b[0;34m.\u001b[0m\u001b[0mshow\u001b[0m\u001b[0;34m(\u001b[0m\u001b[0;34m)\u001b[0m\u001b[0;34m\u001b[0m\u001b[0m\n",
      "\u001b[0;31mTypeError\u001b[0m: raw_totalpower_plot() got an unexpected keyword argument 'title'"
     ]
    },
    {
     "ename": "ValueError",
     "evalue": "could not convert string to float: (sunrise",
     "output_type": "error",
     "traceback": [
      "\u001b[0;31m\u001b[0m",
      "\u001b[0;31mValueError\u001b[0mTraceback (most recent call last)",
      "\u001b[0;32m/users/ajosaiti/anaconda/envs/py2.7env/bin/sp_rawview.py\u001b[0m in \u001b[0;36m<module>\u001b[0;34m()\u001b[0m\n\u001b[1;32m     36\u001b[0m \u001b[0;34m\u001b[0m\u001b[0m\n\u001b[1;32m     37\u001b[0m \u001b[0;32mif\u001b[0m \u001b[0margs\u001b[0m\u001b[0;34m.\u001b[0m\u001b[0mt_range\u001b[0m \u001b[0;32mis\u001b[0m \u001b[0;32mnot\u001b[0m \u001b[0mNone\u001b[0m\u001b[0;34m:\u001b[0m\u001b[0;34m\u001b[0m\u001b[0m\n\u001b[0;32m---> 38\u001b[0;31m     \u001b[0margs\u001b[0m\u001b[0;34m.\u001b[0m\u001b[0mt_range\u001b[0m \u001b[0;34m=\u001b[0m \u001b[0;34m[\u001b[0m\u001b[0mfloat\u001b[0m\u001b[0;34m(\u001b[0m\u001b[0mx\u001b[0m\u001b[0;34m)\u001b[0m \u001b[0;32mfor\u001b[0m \u001b[0mx\u001b[0m \u001b[0;32min\u001b[0m \u001b[0margs\u001b[0m\u001b[0;34m.\u001b[0m\u001b[0mt_range\u001b[0m\u001b[0;34m.\u001b[0m\u001b[0msplit\u001b[0m\u001b[0;34m(\u001b[0m\u001b[0;34m','\u001b[0m\u001b[0;34m)\u001b[0m\u001b[0;34m]\u001b[0m\u001b[0;34m\u001b[0m\u001b[0m\n\u001b[0m\u001b[1;32m     39\u001b[0m \u001b[0;34m\u001b[0m\u001b[0m\n\u001b[1;32m     40\u001b[0m \u001b[0;32mif\u001b[0m \u001b[0margs\u001b[0m\u001b[0;34m.\u001b[0m\u001b[0mkeys\u001b[0m \u001b[0;32mis\u001b[0m \u001b[0;32mnot\u001b[0m \u001b[0mNone\u001b[0m\u001b[0;34m:\u001b[0m\u001b[0;34m\u001b[0m\u001b[0m\n",
      "\u001b[0;31mValueError\u001b[0m: could not convert string to float: (sunrise"
     ]
    },
    {
     "name": "stdout",
     "output_type": "stream",
     "text": [
      "    ...subprocess complete.\n"
     ]
    }
   ],
   "source": [
    "import numpy as np\n",
    "import datetime \n",
    "import matplotlib.pyplot as plt\n",
    "import os\n",
    "import json\n",
    "import subprocess\n",
    "\n",
    "OUT_DAY = 'arr_day.npy' #the output files containing integrated power and metadata for each sweep-spectrum on record\n",
    "OUT_NIGHT = 'arr_night.npy'\n",
    "SUNSET_TIMETABLE = np.genfromtxt('/lustre/aoc/projects/hera/ajosaiti/SDR_RFI_monitoring/HERA_daily_RFI/HERA_sunrise_sunset_annual.csv', dtype=str,delimiter=',') # Col 0: Month-day (mmdd), Col 1: Sunrise (hhmm), Col 2: Sunset (hhmm)\n",
    "STR_DAY = os.environ['which_day']\n",
    "DEBUG = bool(int(os.environ['DEBUG'])) #False\n",
    "\n",
    "def file_flush():\n",
    "\tif DEBUG: print('flushing temporary and output files...')\n",
    "\topen(OUT_DAY, 'w').close()\n",
    "\topen(OUT_NIGHT, 'w').close()\n",
    "\tif DEBUG: print('done.')\n",
    "\n",
    "def delta_hours_minutes(td):\n",
    "    return td.seconds//3600, (td.seconds//60)%60\n",
    "\n",
    "def recursive_key_search(dat, key): #https://stackoverflow.com/questions/9807634/find-all-occurrences-of-a-key-in-nested-python-dictionaries-and-lists\n",
    "#sum_dbm_recursive_key_search(dat, key): #https://stackoverflow.com/questions/9807634/find-all-occurrences-of-a-key-in-nested-python-dictionaries-and-lists\n",
    "    if key in dat:\n",
    "        yield dat[key]\n",
    "    for k in dat:\n",
    "        if isinstance(dat[k], list):\n",
    "            for i in dat[k]:\n",
    "                for j in recursive_key_search(i):\n",
    "                    yield j\n",
    "\n",
    "def time_in_rids_fmt(datetime_time): # convert datetime.datetime.now() time into the RIDZ-requested format\n",
    "\tstr_iso = datetime_time.isoformat(' ')\n",
    "\tstr_time_rids = str( str_iso[0:4] + str_iso[5:7] + str_iso[8:10] + '-' + str_iso[11:13]+str_iso[14:16]+str_iso[17:19])\n",
    "\treturn str_time_rids\n",
    "\n",
    "def sum_array_of_dbm(arr):\n",
    "\tval_sum = 10.*np.log10(np.sum(np.power(10,np.array(arr)/10.)))\n",
    "\treturn val_sum\n",
    "\n",
    "def trunc_time(dt):\n",
    "    dt_trunc = datetime.date(dt.day, dt.hour, dt.minute, dt.second)\n",
    "    return dt_trunc\n",
    "\n",
    "\n",
    "def calc_wf_and_integrated_power(sunrise, sunset):\n",
    "    ## check these fileid aren't in the processed_sessid.txt file\n",
    "    processed_file_dir = os.path.dirname(os.environ['DATA_PATH'])\n",
    "    processed_fileid = np.loadtxt(os.path.join(processed_file_dir, 'processed_fileid.txt'), dtype=np.int)\n",
    "    if DEBUG: \n",
    "        print('NOTE: Since in DEBUG mode, Will reprocess files if instructed.')\n",
    "        \n",
    "    # filter out sessions already processed\n",
    "    unprocessed_files = []\n",
    "    pathname = []\n",
    "    for diritem in os.listdir(os.environ['staging_dir']):\n",
    "        if DEBUG: \n",
    "            print('in ipynb, staging_dir is: '+str(os.environ['staging_dir']))\n",
    "        if os.path.isdir(diritem) or str(diritem).isdigit():\n",
    "            pathname = str(str(os.environ['staging_dir'])+'/'+str(diritem)+'/')\n",
    "            print('  '+str(diritem)+' considered to be a dir.')\n",
    "            for dir_file in os.listdir(pathname):\n",
    "                name=str(dir_file)#file[\"name\"])\n",
    "                if DEBUG: print('   In dir, pathname: '+str(pathname)+', dirfile: '+str(name))\n",
    "                fileid = int(name[int(name.find('.')+1):name.find('-')])\n",
    "                if (fileid not in processed_fileid) or DEBUG:\n",
    "                    unprocessed_files.append(name)\n",
    "                    \n",
    "        else:\n",
    "            pathname = str(os.environ['staging_dir']+'/')\n",
    "            name=str(diritem)#file[\"name\"])\n",
    "            if DEBUG: \n",
    "                print('  '+str(name)+' is thought to be a file, not a directory.')\n",
    "                print('    diritem is a file, name: '+str(name))\n",
    "            fileid = int(name[int(name.find('.')+1):name.find('-')])\n",
    "            if (fileid not in processed_fileid) or DEBUG:\n",
    "                unprocessed_files.append(name)\n",
    "\n",
    "    if DEBUG: \n",
    "        print('List of unprocessed files (or all files if DEBUG): '+str(unprocessed_files))\n",
    "        print('Ready to analyze files in pathname \"'+str(pathname)+'\".')\n",
    "        print('launching subprocess...')\n",
    "    %cd {pathname}\n",
    "    str_args = str( str( ','.join([str(s) for s in os.listdir(pathname) if s.endswith('.ridz') and STR_DAY in s and os.stat(s).st_size !=0])))\n",
    "    if DEBUG: print('str_args: '+str(str_args))\n",
    "    %run ~/anaconda/envs/py2.7env/bin/sp_rawview --wf val --title str('Waterfall of all data from '+STR_DAY) {str_args} \n",
    "    %run ~/anaconda/envs/py2.7env/bin/sp_rawview --totalpower val {str_args}\n",
    "    %run ~/anaconda/envs/py2.7env/bin/sp_rawview --wf val --title str('Daytime waterfall ') -t (sunrise,sunset) {str_args} \n",
    "    if DEBUG: print('    ...subprocess complete.')\n",
    "\n",
    "    return pathname \n",
    "\n",
    "#For the day in question, figure out when sunset and sunrise were. \n",
    "col_date,col_key = np.where(SUNSET_TIMETABLE == STR_DAY[4:]) #find mmdd, but it could also be a time\n",
    "sunrise = datetime.datetime.strptime( str(str(STR_DAY[:4])+str(STR_DAY[4:])+'-'+str(SUNSET_TIMETABLE[int(col_date[col_key==0])][1])) ,'%Y%m%d-%H%M')\n",
    "sunset = datetime.datetime.strptime( str(str(STR_DAY[:4])+str(STR_DAY[4:])+'-'+str(SUNSET_TIMETABLE[int(col_date[col_key==0])][2])) ,'%Y%m%d-%H%M')\n",
    "delta_hour, delta_minute = delta_hours_minutes((sunset-sunrise))\n",
    "#Arrays containing data from each sweep measurement, sorted by whether the data occured in the daytime or nighttime.\n",
    "arr_day=[] # [datetime.datetime object], [float(integrated power)]\n",
    "arr_night=[]\n",
    "\n",
    "\n",
    "file_flush() # Make sure output files aren't reused with old data in them.\n",
    "pathname = calc_wf_and_integrated_power(sunrise, sunset)\n",
    "\n",
    "#create pathname environment variable so I can add librarian events in run_notebook.sh. This pathname may be different than the staging_dir var.\n",
    "os.environ['staging_pathname']=pathname\n",
    "#%env staging_pathname=pathname\n"
   ]
  },
  {
   "cell_type": "code",
   "execution_count": 2,
   "metadata": {
    "collapsed": true
   },
   "outputs": [],
   "source": []
  }
 ],
 "metadata": {
  "anaconda-cloud": {},
  "kernelspec": {
   "display_name": "Python [anaconda]",
   "language": "python",
   "name": "Python [anaconda]"
  },
  "language_info": {
   "codemirror_mode": {
    "name": "ipython",
    "version": 2
   },
   "file_extension": ".py",
   "mimetype": "text/x-python",
   "name": "python",
   "nbconvert_exporter": "python",
   "pygments_lexer": "ipython2",
   "version": "2.7.12"
  }
 },
 "nbformat": 4,
 "nbformat_minor": 0
}
