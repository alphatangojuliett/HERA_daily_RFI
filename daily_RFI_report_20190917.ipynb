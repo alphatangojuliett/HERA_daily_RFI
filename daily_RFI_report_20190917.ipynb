{
 "cells": [
  {
   "cell_type": "code",
   "execution_count": 1,
   "metadata": {
    "scrolled": false
   },
   "outputs": [
    {
     "name": "stderr",
     "output_type": "stream",
     "text": [
      "ERROR:root:File `u'{os.environ[SP_RAWVIEW_PATH]}.py'` not found.\n",
      "ERROR:root:File `u'{os.environ[SP_RAWVIEW_PATH]}.py'` not found.\n",
      "ERROR:root:File `u'{os.environ[SP_RAWVIEW_PATH]}.py'` not found.\n",
      "ERROR:root:File `u'{os.environ[SP_RAWVIEW_PATH]}.py'` not found.\n",
      "ERROR:root:File `u'{os.environ[SP_RAWVIEW_PATH]}.py'` not found.\n",
      "ERROR:root:File `u'{os.environ[SP_RAWVIEW_PATH]}.py'` not found.\n"
     ]
    },
    {
     "name": "stdout",
     "output_type": "stream",
     "text": [
      "Date path: \n",
      "/lustre/aoc/projects/hera/ajosaiti/SDR_RFI_monitoring_staging20190917/20190917\n"
     ]
    }
   ],
   "source": [
    "%matplotlib inline\n",
    "import numpy as np\n",
    "import datetime \n",
    "import matplotlib.pyplot as plt\n",
    "import os\n",
    "import json\n",
    "import subprocess\n",
    "\n",
    "#Do not use the following lines when on lustre, only use them locally\n",
    "#os.environ['staging_dir'] = '/Users/josaitis/gnuradio_tutorials/ridz_and_scripts/ridz_files/'\n",
    "#os.environ['which_day'] = '20190917'\n",
    "#os.environ['DEBUG'] = '0'\n",
    "#os.environ['DATA_PATH'] = '/Users/josaitis/gnuradio_tutorials/ridz_and_scripts/'\n",
    "#\n",
    "\n",
    "#Change these lines based on whether or not you are working locally or on lustre\n",
    "os.environ['USE_SDR_NO_CONNECTION'] = '1'\n",
    "os.environ['SDR_NO_CONNECTION'] = 'SDR_nothing_connected_terminated.txt' # #file in DATA_PATH. Only used if USE_SDR_NO_CONNECTION is True. Used in proces() of sp_handling_raw.py, which is lauched in various args of sp_rawview.py\n",
    "os.environ['SP_RAWVIEW_FILE'] ='/users/ajosaiti/anaconda/envs/py2.7env/rids/scripts/sp_rawview.py'#'/Users/josaitis/anaconda/lib/python2.7/site-packages/EGG-INFO/scripts/sp_rawview.py'# lustre: /users/ajosaiti/anaconda/envs/py2.7env/rids/scripts/sp_rawview.py\n",
    "os.environ['SDR_NO_CONNECTION_PATH']='/lustre/aoc/projects/hera/ajosaiti/SDR_RFI_monitoring/HERA_daily_RFI/'\n",
    "#\n",
    "\n",
    "STR_DAY = os.environ['which_day']\n",
    "DEBUG = bool(int(os.environ['DEBUG'])) #False\n",
    "print('Date path: '+str(os.environ['DATA_PATH']))\n",
    "\n",
    "\n",
    "def execute_sp_rawview_processes():\n",
    "    #### check that these file ids aren't in processed_fileid.txt\n",
    "    processed_file_dir = os.path.dirname(os.environ['DATA_PATH'])\n",
    "    processed_fileid = np.loadtxt(os.path.join(processed_file_dir, 'processed_fileid.txt'), dtype=np.int)\n",
    "   \n",
    "    # filter out sessions already processed\n",
    "    unprocessed_files = []\n",
    "    pathname = []\n",
    "    for diritem in os.listdir(os.environ['staging_dir']):\n",
    "        \n",
    "        if os.path.isdir(diritem) or str(diritem).isdigit():\n",
    "            pathname = str(str(os.environ['staging_dir'])+'/'+str(diritem)+'/')\n",
    "            print('  '+str(diritem)+' considered to be a dir.')\n",
    "            for dir_file in os.listdir(pathname):\n",
    "                name=str(dir_file)#file[\"name\"])\n",
    "                fileid = int(name[int(name.find('.')+1):name.find('-')])\n",
    "                if (fileid not in processed_fileid) or DEBUG:\n",
    "                    unprocessed_files.append(name)\n",
    "                    \n",
    "        else:\n",
    "            pathname = str(os.environ['staging_dir']+'/')\n",
    "            name=str(diritem)#file[\"name\"])\n",
    "\n",
    "            fileid = int(name[int(name.find('.')+1):name.find('-')])\n",
    "            if (fileid not in processed_fileid) or DEBUG:\n",
    "                unprocessed_files.append(name)\n",
    "\n",
    "    %cd {pathname}\n",
    "    str_args = str( str( ','.join([str(s) for s in os.listdir(pathname) if s.endswith('.ridz') and STR_DAY in s and os.stat(s).st_size !=0])))\n",
    "    %run {os.environ['SP_RAWVIEW_PATH']} --wf val -f '50.,100.' {str_args}\n",
    "    %run {os.environ['SP_RAWVIEW_PATH']} --wf val -f '100.,150.' {str_args}\n",
    "    %run {os.environ['SP_RAWVIEW_PATH']} --wf val -f '150.,200.' {str_args}\n",
    "    %run {os.environ['SP_RAWVIEW_PATH']} --wf val -f '200.,250.' {str_args}\n",
    "    %run {os.environ['SP_RAWVIEW_PATH']} --totalpower val -f '50.,250.' {str_args}\n",
    "    %run {os.environ['SP_RAWVIEW_PATH']} --totalpower val {str_args}\n",
    "    \n",
    "    return pathname \n",
    "\n",
    "pathname = execute_sp_rawview_processes()\n",
    "\n",
    "#create pathname environment variable so I can add librarian events in run_notebook.sh. This pathname may be different than the staging_dir var.\n",
    "os.environ['staging_pathname']=pathname"
   ]
  },
  {
   "cell_type": "code",
   "execution_count": null,
   "metadata": {},
   "outputs": [],
   "source": []
  },
  {
   "cell_type": "code",
   "execution_count": null,
   "metadata": {},
   "outputs": [],
   "source": []
  }
 ],
 "metadata": {
  "anaconda-cloud": {},
  "kernelspec": {
   "display_name": "Python [anaconda]",
   "language": "python",
   "name": "Python [anaconda]"
  },
  "language_info": {
   "codemirror_mode": {
    "name": "ipython",
    "version": 2
   },
   "file_extension": ".py",
   "mimetype": "text/x-python",
   "name": "python",
   "nbconvert_exporter": "python",
   "pygments_lexer": "ipython2",
   "version": "2.7.15"
  }
 },
 "nbformat": 4,
 "nbformat_minor": 2
}
