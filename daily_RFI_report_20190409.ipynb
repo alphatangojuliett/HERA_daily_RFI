{
 "cells": [
  {
   "cell_type": "code",
   "execution_count": 1,
   "metadata": {
    "collapsed": true
   },
   "outputs": [
    {
     "name": "stdout",
     "output_type": "stream",
     "text": [
      "/lustre/aoc/projects/hera/ajosaiti/SDR_RFI_monitoring_staging/20190409\n",
      "Reading SDR_SpectrumPeak.20190409-180002.n240.None.ridz\n",
      "Reading SDR_SpectrumPeak.20190409-160002.n240.None.ridz\n",
      "Reading SDR_SpectrumPeak.20190409-200002.n240.None.ridz\n",
      "Reading SDR_SpectrumPeak.20190409-000002.n240.None.ridz\n",
      "Reading SDR_SpectrumPeak.20190409-100002.n240.None.ridz\n",
      "Reading SDR_SpectrumPeak.20190409-040002.n238.None.ridz\n",
      "Reading SDR_SpectrumPeak.20190409-080002.n240.None.ridz\n",
      "Reading SDR_SpectrumPeak.20190409-020002.n240.None.ridz\n",
      "Reading SDR_SpectrumPeak.20190409-220002.n240.None.ridz\n",
      "Reading SDR_SpectrumPeak.20190409-060002.n240.None.ridz\n",
      "Reading SDR_SpectrumPeak.20190409-120002.n240.None.ridz\n",
      "Reading SDR_SpectrumPeak.20190409-140002.n240.None.ridz\n",
      "Data span 2019-04-09 00:00:02 - 2019-04-09 23:59:32\n"
     ]
    },
    {
     "name": "stderr",
     "output_type": "stream",
     "text": [
      "/lustre/aoc/projects/hera/ajosaiti/SDR_RFI_monitoring/HERA_daily_RFI/xrfi_funcs.py:215: RuntimeWarning: divide by zero encountered in divide\n",
      "  f = d_rs / sig\n"
     ]
    },
    {
     "name": "stdout",
     "output_type": "stream",
     "text": [
      "Percent of channels that, at any time(s) in the day, are flagged by XRFI: 99.951183793%\n"
     ]
    },
    {
     "data": {
      "image/png": "[encoded data removed]",
      "text/plain": [
       "<Figure size 432x288 with 1 Axes>"
      ]
     },
     "metadata": {
      "needs_background": "light"
     },
     "output_type": "display_data"
    }
   ],
   "source": [
    "%matplotlib inline \n",
    "import numpy as np\n",
    "import datetime \n",
    "import matplotlib.pyplot as plt\n",
    "import os\n",
    "import json\n",
    "import subprocess\n",
    "\n",
    "OUT_DAY = 'arr_day.npy' #the output files containing integrated power and metadata for each sweep-spectrum on record\n",
    "OUT_NIGHT = 'arr_night.npy'\n",
    "SUNSET_TIMETABLE = np.genfromtxt('/lustre/aoc/projects/hera/ajosaiti/SDR_RFI_monitoring/HERA_daily_RFI/HERA_sunrise_sunset_annual.csv', dtype=str,delimiter=',') # Col 0: Month-day (mmdd), Col 1: Sunrise (hhmm), Col 2: Sunset (hhmm)\n",
    "STR_DAY = os.environ['which_day']\n",
    "DEBUG = bool(int(os.environ['DEBUG'])) #False\n",
    "\n",
    "def file_flush():\n",
    "\tif DEBUG: print('flushing temporary and output files...')\n",
    "\topen(OUT_DAY, 'w').close()\n",
    "\topen(OUT_NIGHT, 'w').close()\n",
    "\tif DEBUG: print('done.')\n",
    "\n",
    "def delta_hours_minutes(td):\n",
    "    return td.seconds//3600, (td.seconds//60)%60\n",
    "\n",
    "def recursive_key_search(dat, key): #https://stackoverflow.com/questions/9807634/find-all-occurrences-of-a-key-in-nested-python-dictionaries-and-lists\n",
    "#sum_dbm_recursive_key_search(dat, key): #https://stackoverflow.com/questions/9807634/find-all-occurrences-of-a-key-in-nested-python-dictionaries-and-lists\n",
    "    if key in dat:\n",
    "        yield dat[key]\n",
    "    for k in dat:\n",
    "        if isinstance(dat[k], list):\n",
    "            for i in dat[k]:\n",
    "                for j in recursive_key_search(i):\n",
    "                    yield j\n",
    "\n",
    "def time_in_rids_fmt(datetime_time): # convert datetime.datetime.now() time into the RIDZ-requested format\n",
    "\tstr_iso = datetime_time.isoformat(' ')\n",
    "\tstr_time_rids = str( str_iso[0:4] + str_iso[5:7] + str_iso[8:10] + '-' + str_iso[11:13]+str_iso[14:16]+str_iso[17:19])\n",
    "\treturn str_time_rids\n",
    "\n",
    "def sum_array_of_dbm(arr):\n",
    "\tval_sum = 10.*np.log10(np.sum(np.power(10,np.array(arr)/10.)))\n",
    "\treturn val_sum\n",
    "\n",
    "def trunc_time(dt):\n",
    "    dt_trunc = datetime.date(dt.day, dt.hour, dt.minute, dt.second)\n",
    "    return dt_trunc\n",
    "\n",
    "def calc_wf_and_integrated_power(sunrise, sunset):\n",
    "    ## check these fileid aren't in the processed_sessid.txt file\n",
    "    processed_file_dir = os.path.dirname(os.environ['DATA_PATH'])\n",
    "    processed_fileid = np.loadtxt(os.path.join(processed_file_dir, 'processed_fileid.txt'), dtype=np.int)\n",
    "    if DEBUG: \n",
    "        print('NOTE: Since in DEBUG mode, Will reprocess files if instructed.')\n",
    "        \n",
    "    # filter out sessions already processed\n",
    "    unprocessed_files = []\n",
    "    pathname = []\n",
    "    for diritem in os.listdir(os.environ['staging_dir']):\n",
    "        if DEBUG: \n",
    "            print('in ipynb, staging_dir is: '+str(os.environ['staging_dir']))\n",
    "        if os.path.isdir(diritem) or str(diritem).isdigit():\n",
    "            pathname = str(str(os.environ['staging_dir'])+'/'+str(diritem)+'/')\n",
    "            print('  '+str(diritem)+' considered to be a dir.')\n",
    "            for dir_file in os.listdir(pathname):\n",
    "                name=str(dir_file)#file[\"name\"])\n",
    "                if DEBUG: print('   In dir, pathname: '+str(pathname)+', dirfile: '+str(name))\n",
    "                fileid = int(name[int(name.find('.')+1):name.find('-')])\n",
    "                if (fileid not in processed_fileid) or DEBUG:\n",
    "                    unprocessed_files.append(name)\n",
    "                    \n",
    "        else:\n",
    "            pathname = str(os.environ['staging_dir']+'/')\n",
    "            name=str(diritem)#file[\"name\"])\n",
    "            if DEBUG: \n",
    "                print('  '+str(name)+' is thought to be a file, not a directory.')\n",
    "                print('    diritem is a file, name: '+str(name))\n",
    "            fileid = int(name[int(name.find('.')+1):name.find('-')])\n",
    "            if (fileid not in processed_fileid) or DEBUG:\n",
    "                unprocessed_files.append(name)\n",
    "\n",
    "    if DEBUG: \n",
    "        print('List of unprocessed files (or all files if DEBUG): '+str(unprocessed_files))\n",
    "        print('Ready to analyze files in pathname \"'+str(pathname)+'\".')\n",
    "        print('launching subprocess...')\n",
    "    %cd {pathname}\n",
    "    str_args = str( str( ','.join([str(s) for s in os.listdir(pathname) if s.endswith('.ridz') and STR_DAY in s and os.stat(s).st_size !=0])))\n",
    "    if DEBUG: print('str_args: '+str(str_args))\n",
    "    #%run /users/ajosaiti/anaconda/envs/py2.7env/rids/scripts/sp_rawview.py --wf val -f '180.,230.' {str_args}\n",
    "    %run /users/ajosaiti/anaconda/envs/py2.7env/rids/scripts/sp_rawview.py --statsplot val -f '180.,230.' {str_args}\n",
    "    #%run /users/ajosaiti/anaconda/envs/py2.7env/rids/scripts/sp_rawview.py --totalpower val -f '180.,230.' {str_args}\n",
    "    #%run /users/ajosaiti/anaconda/envs/py2.7env/rids/scripts/sp_rawview.py --statsplot val -f '50.,250.' {str_args}\n",
    "    if DEBUG: print('    ...subprocess complete.')\n",
    "\n",
    "    return pathname \n",
    "\n",
    "#For the day in question, figure out when sunset and sunrise were. \n",
    "col_date,col_key = np.where(SUNSET_TIMETABLE == STR_DAY[4:]) #find mmdd, but it could also be a time\n",
    "sunrise = datetime.datetime.strptime( str(str(STR_DAY[:4])+str(STR_DAY[4:])+'-'+str(SUNSET_TIMETABLE[int(col_date[col_key==0])][1])) ,'%Y%m%d-%H%M')\n",
    "sunset = datetime.datetime.strptime( str(str(STR_DAY[:4])+str(STR_DAY[4:])+'-'+str(SUNSET_TIMETABLE[int(col_date[col_key==0])][2])) ,'%Y%m%d-%H%M')\n",
    "delta_hour, delta_minute = delta_hours_minutes((sunset-sunrise))\n",
    "if DEBUG: \n",
    "    print( 'Sunrise and sunset objects have type '+str(str(type(sunrise))+', '+str(type(sunset))) )\n",
    "    print( 'Sunrise: '+str(sunrise)+', Sunset: '+str(sunset))\n",
    "    #print( 'Sunrise hour: '+str(sunrise.hour))\n",
    "#Arrays containing data from each sweep measurement, sorted by whether the data occured in the daytime or nighttime.\n",
    "arr_day=[] # [datetime.datetime object], [float(integrated power)]\n",
    "arr_night=[]\n",
    "\n",
    "\n",
    "file_flush() # Make sure output files aren't reused with old data in them.\n",
    "pathname = calc_wf_and_integrated_power(sunrise, sunset)\n",
    "\n",
    "#create pathname environment variable so I can add librarian events in run_notebook.sh. This pathname may be different than the staging_dir var.\n",
    "os.environ['staging_pathname']=pathname\n",
    "#%env staging_pathname=pathname\n"
   ]
  },
  {
   "cell_type": "code",
   "execution_count": null,
   "metadata": {
    "collapsed": true
   },
   "outputs": [],
   "source": []
  }
 ],
 "metadata": {
  "anaconda-cloud": {},
  "kernelspec": {
   "display_name": "Python [anaconda]",
   "language": "python",
   "name": "Python [anaconda]"
  },
  "language_info": {
   "codemirror_mode": {
    "name": "ipython",
    "version": 2
   },
   "file_extension": ".py",
   "mimetype": "text/x-python",
   "name": "python",
   "nbconvert_exporter": "python",
   "pygments_lexer": "ipython2",
   "version": "2.7.15"
  }
 },
 "nbformat": 4,
 "nbformat_minor": 0
}
