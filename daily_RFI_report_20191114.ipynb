{
 "cells": [
  {
   "cell_type": "code",
   "execution_count": 1,
   "metadata": {
    "scrolled": false
   },
   "outputs": [
    {
     "name": "stdout",
     "output_type": "stream",
     "text": [
      "Date path: \n",
      "[Errno 2] No such file or directory: '[]'\n",
      "/lustre/aoc/projects/hera/ajosaiti/SDR_RFI_monitoring/HERA_daily_RFI\n"
     ]
    },
    {
     "ename": "TypeError",
     "evalue": "coercing to Unicode: need string or buffer, list found",
     "output_type": "error",
     "traceback": [
      "\u001b[0;31m\u001b[0m",
      "\u001b[0;31mTypeError\u001b[0mTraceback (most recent call last)",
      "\u001b[0;32m<ipython-input-1-66c0164fcfe9>\u001b[0m in \u001b[0;36m<module>\u001b[0;34m()\u001b[0m\n\u001b[1;32m     64\u001b[0m     \u001b[0;32mreturn\u001b[0m \u001b[0mpathname\u001b[0m\u001b[0;34m\u001b[0m\u001b[0m\n\u001b[1;32m     65\u001b[0m \u001b[0;34m\u001b[0m\u001b[0m\n\u001b[0;32m---> 66\u001b[0;31m \u001b[0mpathname\u001b[0m \u001b[0;34m=\u001b[0m \u001b[0mexecute_sp_rawview_processes\u001b[0m\u001b[0;34m(\u001b[0m\u001b[0;34m)\u001b[0m\u001b[0;34m\u001b[0m\u001b[0m\n\u001b[0m\u001b[1;32m     67\u001b[0m \u001b[0;34m\u001b[0m\u001b[0m\n\u001b[1;32m     68\u001b[0m \u001b[0;31m#create pathname environment variable so I can add librarian events in run_notebook.sh. This pathname may be different than the staging_dir var.\u001b[0m\u001b[0;34m\u001b[0m\u001b[0;34m\u001b[0m\u001b[0m\n",
      "\u001b[0;32m<ipython-input-1-66c0164fcfe9>\u001b[0m in \u001b[0;36mexecute_sp_rawview_processes\u001b[0;34m()\u001b[0m\n\u001b[1;32m     54\u001b[0m \u001b[0;34m\u001b[0m\u001b[0m\n\u001b[1;32m     55\u001b[0m     \u001b[0mget_ipython\u001b[0m\u001b[0;34m(\u001b[0m\u001b[0;34m)\u001b[0m\u001b[0;34m.\u001b[0m\u001b[0mmagic\u001b[0m\u001b[0;34m(\u001b[0m\u001b[0;34mu'cd {pathname}'\u001b[0m\u001b[0;34m)\u001b[0m\u001b[0;34m\u001b[0m\u001b[0m\n\u001b[0;32m---> 56\u001b[0;31m     \u001b[0mstr_args\u001b[0m \u001b[0;34m=\u001b[0m \u001b[0mstr\u001b[0m\u001b[0;34m(\u001b[0m \u001b[0mstr\u001b[0m\u001b[0;34m(\u001b[0m \u001b[0;34m','\u001b[0m\u001b[0;34m.\u001b[0m\u001b[0mjoin\u001b[0m\u001b[0;34m(\u001b[0m\u001b[0;34m[\u001b[0m\u001b[0mstr\u001b[0m\u001b[0;34m(\u001b[0m\u001b[0ms\u001b[0m\u001b[0;34m)\u001b[0m \u001b[0;32mfor\u001b[0m \u001b[0ms\u001b[0m \u001b[0;32min\u001b[0m \u001b[0mos\u001b[0m\u001b[0;34m.\u001b[0m\u001b[0mlistdir\u001b[0m\u001b[0;34m(\u001b[0m\u001b[0mpathname\u001b[0m\u001b[0;34m)\u001b[0m \u001b[0;32mif\u001b[0m \u001b[0ms\u001b[0m\u001b[0;34m.\u001b[0m\u001b[0mendswith\u001b[0m\u001b[0;34m(\u001b[0m\u001b[0;34m'.ridz'\u001b[0m\u001b[0;34m)\u001b[0m \u001b[0;32mand\u001b[0m \u001b[0mSTR_DAY\u001b[0m \u001b[0;32min\u001b[0m \u001b[0ms\u001b[0m \u001b[0;32mand\u001b[0m \u001b[0mos\u001b[0m\u001b[0;34m.\u001b[0m\u001b[0mstat\u001b[0m\u001b[0;34m(\u001b[0m\u001b[0ms\u001b[0m\u001b[0;34m)\u001b[0m\u001b[0;34m.\u001b[0m\u001b[0mst_size\u001b[0m \u001b[0;34m!=\u001b[0m\u001b[0;36m0\u001b[0m\u001b[0;34m]\u001b[0m\u001b[0;34m)\u001b[0m\u001b[0;34m)\u001b[0m\u001b[0;34m)\u001b[0m\u001b[0;34m\u001b[0m\u001b[0m\n\u001b[0m\u001b[1;32m     57\u001b[0m     \u001b[0mget_ipython\u001b[0m\u001b[0;34m(\u001b[0m\u001b[0;34m)\u001b[0m\u001b[0;34m.\u001b[0m\u001b[0mmagic\u001b[0m\u001b[0;34m(\u001b[0m\u001b[0;34mu\"run {os.environ['SP_RAWVIEW_PATH']} --wf raw -f '50.,100.' {str_args}\"\u001b[0m\u001b[0;34m)\u001b[0m\u001b[0;34m\u001b[0m\u001b[0m\n\u001b[1;32m     58\u001b[0m     \u001b[0mget_ipython\u001b[0m\u001b[0;34m(\u001b[0m\u001b[0;34m)\u001b[0m\u001b[0;34m.\u001b[0m\u001b[0mmagic\u001b[0m\u001b[0;34m(\u001b[0m\u001b[0;34mu\"run {os.environ['SP_RAWVIEW_PATH']} --wf raw -f '100.,150.' {str_args}\"\u001b[0m\u001b[0;34m)\u001b[0m\u001b[0;34m\u001b[0m\u001b[0m\n",
      "\u001b[0;31mTypeError\u001b[0m: coercing to Unicode: need string or buffer, list found"
     ]
    }
   ],
   "source": [
    "%matplotlib inline\n",
    "import numpy as np\n",
    "import datetime \n",
    "import matplotlib.pyplot as plt\n",
    "import os\n",
    "import json\n",
    "import subprocess\n",
    "\n",
    "#Do not use the following lines when on lustre, only use them locally\n",
    "#os.environ['staging_dir'] = '/Users/josaitis/gnuradio_tutorials/ridz_and_scripts/ridz_files/'\n",
    "#os.environ['which_day'] = '20190917'\n",
    "#os.environ['DEBUG'] = '0'\n",
    "#os.environ['DATA_PATH'] = '/Users/josaitis/gnuradio_tutorials/ridz_and_scripts/'\n",
    "#\n",
    "\n",
    "#Change these lines based on whether or not you are working locally or on lustre\n",
    "os.environ['USE_SDR_NO_CONNECTION'] = '1'\n",
    "os.environ['SDR_NO_CONNECTION'] = 'SDR_nothing_connected_terminated.txt' # #file in DATA_PATH. Only used if USE_SDR_NO_CONNECTION is True. Used in proces() of sp_handling_raw.py, which is lauched in various args of sp_rawview.py\n",
    "os.environ['SP_RAWVIEW_PATH'] ='/users/ajosaiti/anaconda/envs/py2.7env/rids/scripts/sp_rawview.py'#'/Users/josaitis/anaconda/lib/python2.7/site-packages/EGG-INFO/scripts/sp_rawview.py'# lustre: /users/ajosaiti/anaconda/envs/py2.7env/rids/scripts/sp_rawview.py\n",
    "os.environ['SDR_NO_CONNECTION_PATH']='/lustre/aoc/projects/hera/ajosaiti/SDR_RFI_monitoring/HERA_daily_RFI/'\n",
    "#\n",
    "\n",
    "STR_DAY = os.environ['which_day']\n",
    "DEBUG = bool(int(os.environ['DEBUG'])) #False\n",
    "print('Date path: '+str(os.environ['DATA_PATH']))\n",
    "\n",
    "\n",
    "def execute_sp_rawview_processes():\n",
    "    #### check that these file ids aren't in processed_fileid.txt\n",
    "    processed_file_dir = os.path.dirname(os.environ['DATA_PATH'])\n",
    "    processed_fileid = np.loadtxt(os.path.join(processed_file_dir, 'processed_fileid.txt'), dtype=np.int)\n",
    "   \n",
    "    # filter out sessions already processed\n",
    "    unprocessed_files = []\n",
    "    pathname = []\n",
    "    for diritem in os.listdir(os.environ['staging_dir']):\n",
    "        \n",
    "        if os.path.isdir(diritem) or str(diritem).isdigit():\n",
    "            pathname = str(str(os.environ['staging_dir'])+'/'+str(diritem)+'/')\n",
    "            print('  '+str(diritem)+' considered to be a dir.')\n",
    "            for dir_file in os.listdir(pathname):\n",
    "                name=str(dir_file)#file[\"name\"])\n",
    "                fileid = int(name[int(name.find('.')+1):name.find('-')])\n",
    "                if (fileid not in processed_fileid) or DEBUG:\n",
    "                    unprocessed_files.append(name)\n",
    "                    \n",
    "        else:\n",
    "            pathname = str(os.environ['staging_dir']+'/')\n",
    "            name=str(diritem)#file[\"name\"])\n",
    "\n",
    "            fileid = int(name[int(name.find('.')+1):name.find('-')])\n",
    "            if (fileid not in processed_fileid) or DEBUG:\n",
    "                unprocessed_files.append(name)\n",
    "\n",
    "    %cd {pathname}\n",
    "    str_args = str( str( ','.join([str(s) for s in os.listdir(pathname) if s.endswith('.ridz') and STR_DAY in s and os.stat(s).st_size !=0])))\n",
    "    %run {os.environ['SP_RAWVIEW_PATH']} --wf raw -f '50.,100.' {str_args}\n",
    "    %run {os.environ['SP_RAWVIEW_PATH']} --wf raw -f '100.,150.' {str_args}\n",
    "    %run {os.environ['SP_RAWVIEW_PATH']} --wf raw -f '150.,200.' {str_args}\n",
    "    %run {os.environ['SP_RAWVIEW_PATH']} --wf raw -f '200.,250.' {str_args}\n",
    "    %run {os.environ['SP_RAWVIEW_PATH']} --totalpower raw -f '50.,250.' {str_args}\n",
    "    %run {os.environ['SP_RAWVIEW_PATH']} --totalpower raw {str_args}\n",
    "    \n",
    "    return pathname \n",
    "\n",
    "pathname = execute_sp_rawview_processes()\n",
    "\n",
    "#create pathname environment variable so I can add librarian events in run_notebook.sh. This pathname may be different than the staging_dir var.\n",
    "os.environ['staging_pathname']=pathname"
   ]
  },
  {
   "cell_type": "code",
   "execution_count": null,
   "metadata": {},
   "outputs": [],
   "source": []
  },
  {
   "cell_type": "code",
   "execution_count": null,
   "metadata": {},
   "outputs": [],
   "source": []
  }
 ],
 "metadata": {
  "anaconda-cloud": {},
  "kernelspec": {
   "display_name": "Python [anaconda]",
   "language": "python",
   "name": "Python [anaconda]"
  },
  "language_info": {
   "codemirror_mode": {
    "name": "ipython",
    "version": 2
   },
   "file_extension": ".py",
   "mimetype": "text/x-python",
   "name": "python",
   "nbconvert_exporter": "python",
   "pygments_lexer": "ipython2",
   "version": "2.7.15"
  }
 },
 "nbformat": 4,
 "nbformat_minor": 2
}
