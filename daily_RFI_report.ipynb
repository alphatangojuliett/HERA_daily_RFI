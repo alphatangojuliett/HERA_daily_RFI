{
 "cells": [
  {
   "cell_type": "code",
   "execution_count": null,
   "metadata": {
    "collapsed": true
   },
   "outputs": [],
   "source": [
    "%matplotlib inline\n",
    "import matplotlib\n",
    "import matplotlib.pyplot as plt\n",
    "import numpy as np\n",
    "import os\n",
    "import json\n",
    "import datetime"
   ]
  },
  {
   "cell_type": "code",
   "execution_count": null,
   "metadata": {
    "collapsed": true
   },
   "outputs": [],
   "source": [
    "# get data location\n",
    "data_path = os.environ['DATA_PATH'] #Temporary, while I work on local computer. For actual github instantion, use: data_path = os.environ['DATA_PATH']\n",
    "OUT_DAY = 'arr_day.npy' #the output files containing integrated power and metadata for each sweep-spectrum on record\n",
    "OUT_NIGHT = 'arr_night.npy'\n",
    "\n",
    "arr_day=np.load(OUT_DAY) # content: [datetime.datetime obj], [float(integrated power)]\n",
    "arr_night=np.load(OUT_NIGHT)\n",
    "\n",
    "arr_full_day = np.concatenate((np.array(arr_day), np.array(arr_night)),axis=0)\n",
    "\n",
    "plt.figure(1)\n",
    "plt.subplot(211)\n",
    "plt.plot(arr_day[:,0], arr_day[:,1],'bo')\n",
    "plt.plot(arr_night[:,0], arr_night[:,1],'go')\n",
    "plt.subplot(211).set_title(str('Daytime ('+str(delta_hour)+' Hours, '+str(delta_minute)+' Minutes) Integrated Power: '+str(  np.round(sum_array_of_dbm(arr_day[:,1]),decimals=1) )+ 'dBm, Nighttime Integrated Power: '+str(  np.round(sum_array_of_dbm(arr_night[:,1]),decimals=1)  )+' dBm'))\n",
    "plt.subplot(212)\n",
    "plt.plot(arr_full_day[:,0], arr_full_day[:,1],'ro')\n",
    "plt.subplot(212).set_title(str('Full 24 Hours, Average Integrated Power: ' + str(  np.round(sum_array_of_dbm(arr_full_day[:,1]),decimals=1)  )+' dBm'))\n",
    "\n",
    "plt.show()"
   ]
  }
 ],
 "metadata": {
  "anaconda-cloud": {},
  "kernelspec": {
   "display_name": "Python [Root]",
   "language": "python",
   "name": "Python [Root]"
  },
  "language_info": {
   "codemirror_mode": {
    "name": "ipython",
    "version": 2
   },
   "file_extension": ".py",
   "mimetype": "text/x-python",
   "name": "python",
   "nbconvert_exporter": "python",
   "pygments_lexer": "ipython2",
   "version": "2.7.12"
  }
 },
 "nbformat": 4,
 "nbformat_minor": 0
}
